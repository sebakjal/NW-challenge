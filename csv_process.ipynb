{
  "metadata": {
    "kernelspec": {
      "name": "python",
      "display_name": "Python (Pyodide)",
      "language": "python"
    },
    "language_info": {
      "codemirror_mode": {
        "name": "python",
        "version": 3
      },
      "file_extension": ".py",
      "mimetype": "text/x-python",
      "name": "python",
      "nbconvert_exporter": "python",
      "pygments_lexer": "ipython3",
      "version": "3.8"
    }
  },
  "nbformat_minor": 5,
  "nbformat": 4,
  "cells": [
    {
      "cell_type": "markdown",
      "source": "# Código del script local para limpiar los datos desde archivos .csv\n\nEste es el script principal que sirve para hacer la limpieza y formateo de datos desde los archivos .csv. Este archivo tiene que estar en una carpeta local junto con los .csv que se quieran procesar (y que estén en el formato entregado con el enunciado). Se recomienda leer documentación en GitHub antes.",
      "metadata": {},
      "id": "f481eafe-eaee-4f10-adfb-b9f8577f0bf5"
    },
    {
      "cell_type": "markdown",
      "source": "En el siguiente bloque se importan las librerías necesarias para el código:\n- pandas se usa para ordenar los datos en tablas\n- glob se usa para acceder los archivos dentro de la carpeta local\n- os se usa para usar varias funciones de modificación de archivos\n- pyproj se usa para realizar transformaciones geoespaciales",
      "metadata": {},
      "id": "a2beeb03-9f05-447a-bde5-bbb4acb06bf2"
    },
    {
      "cell_type": "code",
      "source": "import pandas as pd\nimport glob\nimport os\nfrom pyproj import Transformer",
      "metadata": {
        "tags": []
      },
      "execution_count": 1,
      "outputs": [],
      "id": "0d1551f0-cfd2-4b91-8943-316f31665a62"
    },
    {
      "cell_type": "markdown",
      "source": "En el siguiente bloque se setean variables auxiliares:",
      "metadata": {},
      "id": "244ca605-3c1b-4cf6-a351-2fbadc0fbf7e"
    },
    {
      "cell_type": "code",
      "source": "original_dir = \"original\"\nupload_dir = \"upload\"\ndaily_dataframes = []",
      "metadata": {},
      "execution_count": 2,
      "outputs": [],
      "id": "5d39273c-279e-488e-959b-8292882ec641"
    },
    {
      "cell_type": "markdown",
      "source": "En el siguiente bloque se crean sub carpetas con las que se trabaja en el script. La carpeta \"original\" se usa para guardar los .csv originales que ya fueron procesados y \"upload\" para dejar los .csv listos para subir a la nube:",
      "metadata": {},
      "id": "4bb8311d-39db-4104-a9a7-adb83396b48c"
    },
    {
      "cell_type": "code",
      "source": "try:\n    if os.path.isdir(original_dir):\n        pass\n    else:\n        os.mkdir(original_dir)\n\n    if os.path.isdir(upload_dir):\n        pass\n    else:\n        os.mkdir(upload_dir)\nexcept:\n    print('Problema con la creación de directorios')",
      "metadata": {},
      "execution_count": 3,
      "outputs": [],
      "id": "0665a285-f884-4aec-8d55-b0a552a85a27"
    },
    {
      "cell_type": "markdown",
      "source": "En el siguiente bloque se encuentra la lógica principal del script. Dentro del primer ciclo se revisan todos los archivos .csv dentro de la carpeta, se verifica el formato de estos archivos, se crea un dataframe por cada archivo de entrada y se inicializan variables auxiliares importantes. Estas variable importantes son:\n\n- Diccionario con el código EPSG de la zona de la región junto a la ubicación del punto de origen de la grilla propuesta\n- Diccionario con los valores que se usarán en el eje Y para transformar luego a strings\n\nUna de las desventajas de esta solución temporalmente es la de tener que modificar estos diccionarios manualmente cuando se agreguen nuevas regiones y/o las strings no den a basto para el tamaño de la grilla.\n\nDentro del segundo ciclo se encuentran el proceso de limpieza y formateo de datos en sí. Para cada ciudad en los archivos .csv se pasa por este ciclo y se crea un dataframe.\n",
      "metadata": {},
      "id": "2432262e-84bf-4d41-921a-4a635d53c9d6"
    },
    {
      "cell_type": "code",
      "source": "# Se revisan todos los archivos .csv de la carpeta\nfor csv_file in glob.glob('*.csv'):\n\n    # Para cada archivo:\n\n    # Se lee el archivo .csv\n    with open(csv_file, 'r') as f:\n        trips = f.read()\n\n        # Se verifica que los headers sean los correspondientes al formato\n        first_line = trips.split('\\n', 1)[0]\n        if first_line != 'region,origin_coord,destination_coord,datetime,datasource':\n            raise Exception('El archivo ' + csv_file + ' no está en el formato adecuado')\n\n    # Se reemplazan algunos carácteres innecesarios del archivo\n    replacements = [('POINT (', ''),\n                    (')', ''),\n                    (' ', ',')]\n    for find, replacement in replacements:\n        trips = trips.replace(find, replacement)\n\n    # Se copia el texto limpio a un nuevo archivo con prefijo 'new_'\n    new_trips_path = 'new_' + csv_file\n    with open(new_trips_path, 'w') as f:\n        f.write(trips)\n\n    # Se inicializan variables auxiliares para la grilla\n    cities = {'Turin': {'epsg': 32632, 'x0': 381000, 'y0': 4980000},\n              'Hamburg': {'epsg': 32632, 'x0': 551000, 'y0': 5918000},\n              'Prague': {'epsg': 32633, 'x0': 450000, 'y0': 5536000}}\n    alphabet = {'1': 'a', '2': 'b', '3': 'c', '4': 'd', '5': 'e', '6': 'f', '7': 'g', '8': 'h', '9': 'i', '10': 'j',\n                '11': 'k', '12': 'l', '13': 'm', '14': 'n', '15': 'o', '16': 'p', '17': 'q', '18': 'r', '19': 's',\n                '20': 't', '21': 'u', '22': 'v', '23': 'w', '24': 'x', '25': 'y', '26': 'z', '27': 'aa', '28': 'ab',\n                '29': 'ac', '30': 'ad', '31': 'ae', '32': 'af'}\n    df_list = []\n\n    # Se crea un dataframe de pandas con los datos del archivo\n    new_trips_df = pd.read_csv(new_trips_path, header=0, names=['region', 'origin_x', 'origin_y', 'destination_x',\n                                                                'destination_y', 'date', 'timestamp', 'datasource'])\n    # Por cada ciudad en la lista \"cities\":\n    for city in cities.keys():\n\n        # Se crea un dataframe con las filas que coinciden con el nombre de la ciudad\n        df = pd.DataFrame(new_trips_df[new_trips_df['region'] == city])\n\n        # Se crean columnas con el tiempo en formato yyyy-mm-dd hh:mm:ss y además otra solo con la hora\n        df['hora'] = df['timestamp'].str.split(':', 1).str[0]\n        df['timestamp'] = df['date'] + ' ' + df['timestamp'] + ':00'\n        df['timestamp'] = pd.to_datetime(df.timestamp)\n\n        # Se crea un objeto Transformer, que permite transformar las coordenadas geográficas (Código EPSG: 4326) a\n        # coordenadas proyectadas. Esta transformación depende de la zona del mundo, por esto se necesita el código\n        # EPSG específico. Esta transformación se hace dado que las coordenadas proyectadas son más intuitivas de usar.\n        transformer = Transformer.from_crs(4326, cities[city]['epsg'], always_xy=True)\n\n        # Se transforman las coordenadas de ORIGEN y se asignan a columnas\n        xx, yy = transformer.transform(df['origin_x'].values, df['origin_y'].values)\n        df['easting_origin'] = xx\n        df['northing_origin'] = yy\n\n        # Se asignan valores enteros a las celdas de origen de la grilla. Para el eje Y estas se transforman a letras\n        df['origin_cell_x'] = (df['easting_origin'] - cities[city]['x0']) / 1000 + 1\n        df['origin_cell_x'] = df['origin_cell_x'].astype(int).astype(str)\n        df['origin_cell_y'] = (df['northing_origin'] - cities[city]['y0']) / 1000 + 1\n        df['origin_cell_y'] = df['origin_cell_y'].astype(int).astype(str)\n        df.replace({'origin_cell_y': alphabet}, inplace=True)\n\n        # El valor de la celda de origen corresponde a una string compuesta por el valor del entero de X y de la string\n        # en Y\n        df['origin_cell'] = df['origin_cell_x'] + df['origin_cell_y']\n\n        # Se transforman las coordenadas de DESTINO y se asignan a columnas\n        xx, yy = transformer.transform(df['destination_x'].values, df['destination_y'].values)\n        df['easting_destination'] = xx\n        df['northing_destination'] = yy\n\n        # Se asignan valores enteros a las celdas de destino de la grilla. Para el eje Y estas se transforman a letras\n        df['destination_cell_x'] = (df['easting_destination'] - cities[city]['x0']) / 1000 + 1\n        df['destination_cell_x'] = df['destination_cell_x'].astype(int).astype(str)\n        df['destination_cell_y'] = (df['northing_destination'] - cities[city]['y0']) / 1000 + 1\n        df['destination_cell_y'] = df['destination_cell_y'].astype(int).astype(str)\n        df.replace({'destination_cell_y': alphabet}, inplace=True)\n\n        # El valor de la celda de destino corresponde a una string compuesta por el valor del entero de X y de la string\n        # en Y\n        df['destination_cell'] = df['destination_cell_x'] + df['destination_cell_y']\n\n        # El dataframe resultante de la ciudad se agrega a una lista\n        df_list.append(df)\n\n    # Se concatena la lista de dataframes para dejar uno condensado con todas las ciudades\n    df_cities = pd.concat(df_list)\n\n    # Se agrega a la lista daily_dataframes el dataframe df_cities, que corresponde al dataframe creado desde UN .csv\n    # Se toman las columnas con información significativa\n    daily_dataframes.append(df_cities[['region', 'timestamp', 'hora', 'origin_cell', 'destination_cell', 'origin_x',\n                                       'origin_y', 'destination_x', 'destination_y', 'datasource']])\n\n    # Se elimina el archivo .csv temporal limpio creado al principio del ciclo. El original se mueve a una sub carpeta\n    try:\n        os.remove(new_trips_path)\n        os.rename(csv_file, original_dir + '/' + csv_file)\n    except:\n        print('Error en el movimiento del archivos')",
      "metadata": {},
      "execution_count": 4,
      "outputs": [],
      "id": "65f94715-51ee-4f48-a7e8-06445b311cc8"
    },
    {
      "cell_type": "markdown",
      "source": "En este último bloque se crea el dataframe con todos los datos del día y se crea un .csv con esta información, que luego se mueve a una sub carpeta.",
      "metadata": {},
      "id": "d3704281-24b7-4b28-bf83-c24929c8ec2c"
    },
    {
      "cell_type": "code",
      "source": "# Se concatenan los dataframes de todos los archivos del día y se transforman en un .csv. Este archivo se mueve a una\n# sub carpeta para cargarlo posteriormente.\nif not daily_dataframes:\n    print('No hay dataframes')\nelse:\n    df_upload = pd.concat(daily_dataframes)\n    df_upload.to_csv(upload_dir + '/formatted_trips.csv', index=False)",
      "metadata": {},
      "execution_count": null,
      "outputs": [],
      "id": "60da5177-930d-4df2-8887-a9de54ddfd3c"
    }
  ]
}